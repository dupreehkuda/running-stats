{
 "cells": [
  {
   "attachments": {},
   "cell_type": "markdown",
   "metadata": {},
   "source": [
    "Just analyzing my lazy running"
   ]
  },
  {
   "cell_type": "code",
   "execution_count": 1,
   "metadata": {},
   "outputs": [],
   "source": [
    "import numpy as np\n",
    "import pandas as pd\n",
    "import matplotlib.pyplot as plt\n",
    "import matplotlib.dates as mdates\n",
    "from datetime import datetime"
   ]
  },
  {
   "cell_type": "code",
   "execution_count": 2,
   "metadata": {},
   "outputs": [
    {
     "data": {
      "text/html": [
       "<div>\n",
       "<style scoped>\n",
       "    .dataframe tbody tr th:only-of-type {\n",
       "        vertical-align: middle;\n",
       "    }\n",
       "\n",
       "    .dataframe tbody tr th {\n",
       "        vertical-align: top;\n",
       "    }\n",
       "\n",
       "    .dataframe thead th {\n",
       "        text-align: right;\n",
       "    }\n",
       "</style>\n",
       "<table border=\"1\" class=\"dataframe\">\n",
       "  <thead>\n",
       "    <tr style=\"text-align: right;\">\n",
       "      <th></th>\n",
       "      <th>type</th>\n",
       "      <th>sourceName</th>\n",
       "      <th>sourceVersion</th>\n",
       "      <th>productType</th>\n",
       "      <th>device</th>\n",
       "      <th>startDate</th>\n",
       "      <th>endDate</th>\n",
       "      <th>activityType</th>\n",
       "      <th>duration</th>\n",
       "      <th>durationUnit</th>\n",
       "      <th>...</th>\n",
       "      <th>totalDistance</th>\n",
       "      <th>totalSwimmingStrokeCount</th>\n",
       "      <th>totalFlightsClimbed</th>\n",
       "      <th>HKElevationAscended</th>\n",
       "      <th>HKAverageMETs</th>\n",
       "      <th>HKWeatherHumidity</th>\n",
       "      <th>HKIndoorWorkout</th>\n",
       "      <th>HKTimeZone</th>\n",
       "      <th>HKWeatherTemperature</th>\n",
       "      <th>HKWasUserEntered</th>\n",
       "    </tr>\n",
       "  </thead>\n",
       "  <tbody>\n",
       "    <tr>\n",
       "      <th>0</th>\n",
       "      <td>HKWorkoutTypeIdentifier</td>\n",
       "      <td>Даня’s Apple Watch</td>\n",
       "      <td>8.5</td>\n",
       "      <td>Watch5,4</td>\n",
       "      <td>&lt;&lt;HKDevice: 0x28262be80&gt;, name:Apple Watch,anu...</td>\n",
       "      <td>2022-03-12 03:37:35</td>\n",
       "      <td>2022-03-12 04:17:36</td>\n",
       "      <td>Running</td>\n",
       "      <td>2400.846582</td>\n",
       "      <td>sec</td>\n",
       "      <td>...</td>\n",
       "      <td>7035.45</td>\n",
       "      <td>NaN</td>\n",
       "      <td>NaN</td>\n",
       "      <td>3557 cm</td>\n",
       "      <td>13.7259 kcal/hr·kg</td>\n",
       "      <td>NaN</td>\n",
       "      <td>0</td>\n",
       "      <td>Europe/Moscow</td>\n",
       "      <td>NaN</td>\n",
       "      <td>NaN</td>\n",
       "    </tr>\n",
       "    <tr>\n",
       "      <th>1</th>\n",
       "      <td>HKWorkoutTypeIdentifier</td>\n",
       "      <td>Даня’s Apple Watch</td>\n",
       "      <td>8.5</td>\n",
       "      <td>Watch5,4</td>\n",
       "      <td>&lt;&lt;HKDevice: 0x28262be80&gt;, name:Apple Watch,anu...</td>\n",
       "      <td>2022-03-14 03:45:39</td>\n",
       "      <td>2022-03-14 04:25:45</td>\n",
       "      <td>Running</td>\n",
       "      <td>2405.805182</td>\n",
       "      <td>sec</td>\n",
       "      <td>...</td>\n",
       "      <td>7058.44</td>\n",
       "      <td>NaN</td>\n",
       "      <td>NaN</td>\n",
       "      <td>2074 cm</td>\n",
       "      <td>13.643 kcal/hr·kg</td>\n",
       "      <td>NaN</td>\n",
       "      <td>0</td>\n",
       "      <td>Europe/Moscow</td>\n",
       "      <td>NaN</td>\n",
       "      <td>NaN</td>\n",
       "    </tr>\n",
       "    <tr>\n",
       "      <th>2</th>\n",
       "      <td>HKWorkoutTypeIdentifier</td>\n",
       "      <td>Даня’s Apple Watch</td>\n",
       "      <td>8.5</td>\n",
       "      <td>Watch5,4</td>\n",
       "      <td>&lt;&lt;HKDevice: 0x28262be80&gt;, name:Apple Watch,anu...</td>\n",
       "      <td>2022-03-15 03:43:31</td>\n",
       "      <td>2022-03-15 04:13:33</td>\n",
       "      <td>Running</td>\n",
       "      <td>1802.123695</td>\n",
       "      <td>sec</td>\n",
       "      <td>...</td>\n",
       "      <td>5436.76</td>\n",
       "      <td>NaN</td>\n",
       "      <td>NaN</td>\n",
       "      <td>1997 cm</td>\n",
       "      <td>13.9019 kcal/hr·kg</td>\n",
       "      <td>NaN</td>\n",
       "      <td>0</td>\n",
       "      <td>Europe/Moscow</td>\n",
       "      <td>NaN</td>\n",
       "      <td>NaN</td>\n",
       "    </tr>\n",
       "    <tr>\n",
       "      <th>3</th>\n",
       "      <td>HKWorkoutTypeIdentifier</td>\n",
       "      <td>Даня’s Apple Watch</td>\n",
       "      <td>8.5</td>\n",
       "      <td>Watch5,4</td>\n",
       "      <td>&lt;&lt;HKDevice: 0x28262be80&gt;, name:Apple Watch,anu...</td>\n",
       "      <td>2022-03-18 03:32:04</td>\n",
       "      <td>2022-03-18 03:59:07</td>\n",
       "      <td>Running</td>\n",
       "      <td>1623.621355</td>\n",
       "      <td>sec</td>\n",
       "      <td>...</td>\n",
       "      <td>5035.48</td>\n",
       "      <td>NaN</td>\n",
       "      <td>NaN</td>\n",
       "      <td>2620 cm</td>\n",
       "      <td>13.628 kcal/hr·kg</td>\n",
       "      <td>NaN</td>\n",
       "      <td>0</td>\n",
       "      <td>Europe/Moscow</td>\n",
       "      <td>NaN</td>\n",
       "      <td>NaN</td>\n",
       "    </tr>\n",
       "    <tr>\n",
       "      <th>4</th>\n",
       "      <td>HKWorkoutTypeIdentifier</td>\n",
       "      <td>Даня’s Apple Watch</td>\n",
       "      <td>8.5</td>\n",
       "      <td>Watch5,4</td>\n",
       "      <td>&lt;&lt;HKDevice: 0x28262be80&gt;, name:Apple Watch,anu...</td>\n",
       "      <td>2022-03-19 03:35:12</td>\n",
       "      <td>2022-03-19 04:03:56</td>\n",
       "      <td>Running</td>\n",
       "      <td>1724.530081</td>\n",
       "      <td>sec</td>\n",
       "      <td>...</td>\n",
       "      <td>5269.68</td>\n",
       "      <td>NaN</td>\n",
       "      <td>NaN</td>\n",
       "      <td>2494 cm</td>\n",
       "      <td>13.8874 kcal/hr·kg</td>\n",
       "      <td>NaN</td>\n",
       "      <td>0</td>\n",
       "      <td>Europe/Moscow</td>\n",
       "      <td>NaN</td>\n",
       "      <td>NaN</td>\n",
       "    </tr>\n",
       "  </tbody>\n",
       "</table>\n",
       "<p>5 rows × 21 columns</p>\n",
       "</div>"
      ],
      "text/plain": [
       "                      type          sourceName  sourceVersion productType  \\\n",
       "0  HKWorkoutTypeIdentifier  Даня’s Apple Watch            8.5    Watch5,4   \n",
       "1  HKWorkoutTypeIdentifier  Даня’s Apple Watch            8.5    Watch5,4   \n",
       "2  HKWorkoutTypeIdentifier  Даня’s Apple Watch            8.5    Watch5,4   \n",
       "3  HKWorkoutTypeIdentifier  Даня’s Apple Watch            8.5    Watch5,4   \n",
       "4  HKWorkoutTypeIdentifier  Даня’s Apple Watch            8.5    Watch5,4   \n",
       "\n",
       "                                              device            startDate  \\\n",
       "0  <<HKDevice: 0x28262be80>, name:Apple Watch,anu...  2022-03-12 03:37:35   \n",
       "1  <<HKDevice: 0x28262be80>, name:Apple Watch,anu...  2022-03-14 03:45:39   \n",
       "2  <<HKDevice: 0x28262be80>, name:Apple Watch,anu...  2022-03-15 03:43:31   \n",
       "3  <<HKDevice: 0x28262be80>, name:Apple Watch,anu...  2022-03-18 03:32:04   \n",
       "4  <<HKDevice: 0x28262be80>, name:Apple Watch,anu...  2022-03-19 03:35:12   \n",
       "\n",
       "               endDate activityType     duration durationUnit  ...  \\\n",
       "0  2022-03-12 04:17:36      Running  2400.846582          sec  ...   \n",
       "1  2022-03-14 04:25:45      Running  2405.805182          sec  ...   \n",
       "2  2022-03-15 04:13:33      Running  1802.123695          sec  ...   \n",
       "3  2022-03-18 03:59:07      Running  1623.621355          sec  ...   \n",
       "4  2022-03-19 04:03:56      Running  1724.530081          sec  ...   \n",
       "\n",
       "  totalDistance  totalSwimmingStrokeCount  totalFlightsClimbed  \\\n",
       "0       7035.45                       NaN                  NaN   \n",
       "1       7058.44                       NaN                  NaN   \n",
       "2       5436.76                       NaN                  NaN   \n",
       "3       5035.48                       NaN                  NaN   \n",
       "4       5269.68                       NaN                  NaN   \n",
       "\n",
       "   HKElevationAscended       HKAverageMETs HKWeatherHumidity  HKIndoorWorkout  \\\n",
       "0              3557 cm  13.7259 kcal/hr·kg               NaN                0   \n",
       "1              2074 cm   13.643 kcal/hr·kg               NaN                0   \n",
       "2              1997 cm  13.9019 kcal/hr·kg               NaN                0   \n",
       "3              2620 cm   13.628 kcal/hr·kg               NaN                0   \n",
       "4              2494 cm  13.8874 kcal/hr·kg               NaN                0   \n",
       "\n",
       "      HKTimeZone HKWeatherTemperature  HKWasUserEntered  \n",
       "0  Europe/Moscow                  NaN               NaN  \n",
       "1  Europe/Moscow                  NaN               NaN  \n",
       "2  Europe/Moscow                  NaN               NaN  \n",
       "3  Europe/Moscow                  NaN               NaN  \n",
       "4  Europe/Moscow                  NaN               NaN  \n",
       "\n",
       "[5 rows x 21 columns]"
      ]
     },
     "execution_count": 2,
     "metadata": {},
     "output_type": "execute_result"
    }
   ],
   "source": [
    "df = pd.read_csv(\"running.csv\")\n",
    "df.head()"
   ]
  },
  {
   "cell_type": "code",
   "execution_count": 3,
   "metadata": {},
   "outputs": [
    {
     "name": "stdout",
     "output_type": "stream",
     "text": [
      "1. type\n",
      "2. sourceName\n",
      "3. sourceVersion\n",
      "4. productType\n",
      "5. device\n",
      "6. startDate\n",
      "7. endDate\n",
      "8. activityType\n",
      "9. duration\n",
      "10. durationUnit\n",
      "11. totalEnergyBurned\n",
      "12. totalDistance\n",
      "13. totalSwimmingStrokeCount\n",
      "14. totalFlightsClimbed\n",
      "15. HKElevationAscended\n",
      "16. HKAverageMETs\n",
      "17. HKWeatherHumidity\n",
      "18. HKIndoorWorkout\n",
      "19. HKTimeZone\n",
      "20. HKWeatherTemperature\n",
      "21. HKWasUserEntered\n"
     ]
    }
   ],
   "source": [
    "cols = list(df.columns)\n",
    "for i, col in enumerate(cols):\n",
    "    print(f'{i+1}. {col}')"
   ]
  },
  {
   "cell_type": "code",
   "execution_count": 4,
   "metadata": {},
   "outputs": [],
   "source": [
    "notNeeded = ['type', 'sourceName', 'sourceVersion', 'productType', 'device', 'activityType', 'totalSwimmingStrokeCount', 'totalFlightsClimbed', 'HKTimeZone', 'HKIndoorWorkout', 'HKWeatherHumidity', 'HKElevationAscended', 'HKWeatherTemperature', 'HKAverageMETs']\n",
    "\n",
    "for col in notNeeded:\n",
    "    cols.remove(col)"
   ]
  },
  {
   "attachments": {},
   "cell_type": "markdown",
   "metadata": {},
   "source": [
    "I wanted to see my '22 running year so I made a bar plot to realize how impermament I am..."
   ]
  },
  {
   "cell_type": "code",
   "execution_count": 5,
   "metadata": {},
   "outputs": [
    {
     "data": {
      "image/png": "[encoded data removed]",
      "text/plain": [
       "<Figure size 2160x720 with 1 Axes>"
      ]
     },
     "metadata": {
      "needs_background": "light"
     },
     "output_type": "display_data"
    }
   ],
   "source": [
    "df['startDate'] = df['startDate'].map(lambda x: datetime.strptime(str(x), '%Y-%m-%d %H:%M:%S'))\n",
    "x = df['startDate']\n",
    "y = df['totalDistance']\n",
    "\n",
    "plt.figure(figsize=(30,10))\n",
    "\n",
    "# plot\n",
    "plt.bar(x, y)\n",
    "# beautify the x-labels\n",
    "plt.gcf().autofmt_xdate()\n",
    "\n",
    "plt.show()"
   ]
  },
  {
   "attachments": {},
   "cell_type": "markdown",
   "metadata": {},
   "source": [
    "And then I just calculated average time of my 8k runs"
   ]
  },
  {
   "cell_type": "code",
   "execution_count": 6,
   "metadata": {},
   "outputs": [
    {
     "name": "stdout",
     "output_type": "stream",
     "text": [
      "42.182900883754094\n"
     ]
    }
   ],
   "source": [
    "dur = df['duration']\n",
    "dist = df['totalDistance']\n",
    "total = 0.0\n",
    "j = 0\n",
    "\n",
    "for i, run in enumerate(dur):\n",
    "    if dist[i] >= 8000.0:\n",
    "        total += dur[i]/60\n",
    "        j += 1\n",
    "\n",
    "print(total/j)\n"
   ]
  }
 ],
 "metadata": {
  "kernelspec": {
   "display_name": "env_tensorflow",
   "language": "python",
   "name": "python3"
  },
  "language_info": {
   "codemirror_mode": {
    "name": "ipython",
    "version": 3
   },
   "file_extension": ".py",
   "mimetype": "text/x-python",
   "name": "python",
   "nbconvert_exporter": "python",
   "pygments_lexer": "ipython3",
   "version": "3.9.12"
  },
  "orig_nbformat": 4,
  "vscode": {
   "interpreter": {
    "hash": "eec32edf9aa8b4ed6e2790525c890bf47cc4bb950c7923d4ba2e9d7bf3617caa"
   }
  }
 },
 "nbformat": 4,
 "nbformat_minor": 2
}
